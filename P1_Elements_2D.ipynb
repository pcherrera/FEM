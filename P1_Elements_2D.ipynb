{
  "nbformat": 4,
  "nbformat_minor": 0,
  "metadata": {
    "colab": {
      "name": "P1-Elements_2D.ipynb",
      "provenance": []
    },
    "kernelspec": {
      "name": "python3",
      "display_name": "Python 3"
    }
  },
  "cells": [
    {
      "cell_type": "markdown",
      "metadata": {
        "id": "_WSkPKb3p9Ou",
        "colab_type": "text"
      },
      "source": [
        "**FINITE ELEMENT $\\mathbb{P_1}$ IN 2D**\n",
        "\n",
        "We employ finite element method in two dimensions. We consider the triangle $\\hat K$ of reference with 3 nodes, $(0,0)$, $(1,0)$, $(0,1)$. That they are denoted by $\\vec{x_0},\\vec{x_1},\\vec{x_2}$ respectively.  "
      ]
    },
    {
      "cell_type": "code",
      "metadata": {
        "id": "bf2uui7BZx10",
        "colab_type": "code",
        "colab": {
          "base_uri": "https://localhost:8080/",
          "height": 462
        },
        "outputId": "33e9413d-3564-464e-e38c-70a22199a3dd"
      },
      "source": [
        "import matplotlib.pyplot as plt\n",
        "import matplotlib.tri as mtri\n",
        "import numpy as np\n",
        "x = np.asarray([0,1,0])\n",
        "y = np.asarray([0,0,1])\n",
        "triangles = [[0,1,2]]\n",
        "triang = mtri.Triangulation(x, y, triangles)\n",
        "###########\n",
        "# Set up the figure\n",
        "fig, axs = plt.subplots(figsize=(7,7))\n",
        "\n",
        "\n",
        "# Plot the triangulation\n",
        "axs.triplot(x,y,triangles=triangles)\n",
        "axs.set_title('Triangular grid')\n",
        "plt.plot(x, y, 'ro',markersize=7)\n",
        "plt.text(0,0,\"Nodo 0 -(0,0)\")\n",
        "plt.text(1,0,\"Nodo 1 -(1,0)\")\n",
        "plt.text(0,1,\"Nodo 2 -(0,1)\")"
      ],
      "execution_count": 2,
      "outputs": [
        {
          "output_type": "execute_result",
          "data": {
            "text/plain": [
              "Text(0, 1, 'Nodo 2 -(0,1)')"
            ]
          },
          "metadata": {
            "tags": []
          },
          "execution_count": 2
        },
        {
          "output_type": "display_data",
          "data": {
            "image/png": "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\n",
            "text/plain": [
              "<Figure size 504x504 with 1 Axes>"
            ]
          },
          "metadata": {
            "tags": [],
            "needs_background": "light"
          }
        }
      ]
    },
    {
      "cell_type": "markdown",
      "metadata": {
        "id": "a_gP6Sg-LhsY",
        "colab_type": "text"
      },
      "source": [
        "We define 3 nodal functions \n",
        "\\begin{align*}\n",
        "f_0(x,y)&=1-x-y \\\\\n",
        "f_1(x,y)&=x \\\\\n",
        "f_2(x,y)&=y \\\\\n",
        "\\end{align*}\n",
        "Which satisfy \n",
        "$$f_i(\\vec{x_j})=\\delta_{ij}$$"
      ]
    },
    {
      "cell_type": "code",
      "metadata": {
        "id": "sRfMeTlCqFrB",
        "colab_type": "code",
        "colab": {}
      },
      "source": [
        "from scipy.integrate import quad, dblquad\n",
        "#Nodal Functions\n",
        "f0 = lambda x,y : 1-x-y\n",
        "f1 = lambda x,y : x \n",
        "f2 = lambda x,y : y \n",
        "\n",
        "def f(x,y,i,j):\n",
        "  if i == 0 :\n",
        "    a = f0\n",
        "  elif i == 1:\n",
        "    a = f1 \n",
        "  elif i == 2:\n",
        "    a = f2\n",
        "  else: \n",
        "    raise Exception(\"i must be 0,1 or 2\")\n",
        "  if j == 0 :\n",
        "    b = f0\n",
        "  elif j == 1:\n",
        "    b = f1 \n",
        "  elif j == 2:\n",
        "    b = f2\n",
        "  else: \n",
        "    raise Exception(\"j must be 0,1 or 2\")\n",
        "  return a(x,y)*b(x,y)\n",
        "\n"
      ],
      "execution_count": 3,
      "outputs": []
    },
    {
      "cell_type": "markdown",
      "metadata": {
        "id": "yhnpZU7Y81Ua",
        "colab_type": "text"
      },
      "source": [
        "We assembly the mass matrix \n",
        "$$M_{i,j} = \\int_{K} f_i(\\vec{x})f_j(\\vec{x})dA$$\n"
      ]
    },
    {
      "cell_type": "code",
      "metadata": {
        "id": "DXgZBRYe81rZ",
        "colab_type": "code",
        "colab": {}
      },
      "source": [
        "Mass = np.zeros((3,3))\n",
        "for i in range(0,3):\n",
        "  for j in range(0,3):\n",
        "    Mass[i][j] = float(dblquad(f,0,1,0,lambda x:1-x,args=(i,j))[0])\n",
        "    "
      ],
      "execution_count": 4,
      "outputs": []
    },
    {
      "cell_type": "markdown",
      "metadata": {
        "id": "2_Ry9IN7Irh_",
        "colab_type": "text"
      },
      "source": [
        "Now we assembly the stiffness matrix\n",
        "\$\begin{align*}\n",
        "(K_{xx})_{ij} &= \\int_{K} \\partial_x f_i \\partial_x f_j dA \\\\\n",
        "(K_{yy})_{ij} &= \\int_{K} \\partial_y f_i \\partial_y f_j dA \\\\\n",
        "(K_{xy})_{ij} &= \\int_{K} \\partial_y f_i \\partial_y f_j dA \\\\\n",
        "\\end{align*} \n",
        "Calculations by hand shows\n",
        "\\begin{align*}$\n",
        "K_{xx} = \\frac{1}{2} \n",
        "\\begin{bmatrix} 1&-1&0 \\\\\n",
        "-1&1&0 \\\\\n",
        "0&0&0\n",
        "\\end{bmatrix} \\quad \n",
        "K_{yy} = \\frac{1}{2} \n",
        "\\begin{bmatrix} 1&0&-1 \\\\\n",
        "0&0&0 \\\\\n",
        "-1&0&1\n",
        "\\end{bmatrix} \\quad \n",
        "K_{xy} = \\frac{1}{2} \n",
        "\\begin{bmatrix} 1&0&-1 \\\\\n",
        "-1&0&1 \\\\\n",
        "0&0&0\n",
        "\\end{bmatrix} \\quad\n",
        "\\end{align*}"
      ]
    },
    {
      "cell_type": "code",
      "metadata": {
        "id": "n3PqA53xIvtv",
        "colab_type": "code",
        "colab": {}
      },
      "source": [
        "Kxx = (1/2)*np.array([[1,-1,0],[-1,1,0],[0,0,0]])\n",
        "Kyy = (1/2)*np.array([[1,0,-1],[0,0,0],[-1,0,1]])\n",
        "Kxy = (1/2)*np.array([[1,0,-1],[-1,0,1],[0,0,0]])"
      ],
      "execution_count": 51,
      "outputs": []
    },
    {
      "cell_type": "markdown",
      "metadata": {
        "id": "ynX22BwR_A6w",
        "colab_type": "text"
      },
      "source": [
        "We use Piola's transformation $F:\\hat K \\to  K$ to carry the element of reference to any triangular element $K$. Let $\\vec{y_1},\\vec{y_2},\\vec{y_3}$. The coordinates of vertex of $K$. So \n",
        "$$F(\\vec{x})= \\begin{bmatrix}\\vec{y_1}-\\vec{y_0}  | \\vec{y_2}-\\vec{y_0} \n",
        "              \\end{bmatrix}\n",
        "              \\begin{bmatrix}\n",
        "              \\vec{x}\n",
        "              \\end{bmatrix}+\\vec{x_0}$$\n",
        "Another fashion for this is for $x:=(\\xi,\\eta)$\n",
        "$$F(\\xi,\\eta)= \\xi\\vec{y_1}+\\eta \\vec{y_2}+(1-\\eta-\\xi)\\vec{y_0}$$\n",
        "Another common triangle of reference used in literature is $\\tilde K$ formed by the vertex $(-1,-1),(1,-1),(-1,1)$. We are going to send $\\hat K \\to \\tilde K$ "
      ]
    },
    {
      "cell_type": "code",
      "metadata": {
        "id": "0HSUlmXgGAN9",
        "colab_type": "code",
        "colab": {
          "base_uri": "https://localhost:8080/",
          "height": 304
        },
        "outputId": "7f477102-099a-4172-b290-de20bfdabf38"
      },
      "source": [
        "new_x = np.asarray([-1,1,-1])\n",
        "new_y = np.asarray([-1,-1,1])\n",
        "def F(x,y):\n",
        "  x0 = np.array([new_x[0],new_y[0]])\n",
        "  x1 = np.array([new_x[1],new_y[1]])\n",
        "  x2 = np.array([new_x[2],new_y[2]])\n",
        "  return y*x1+y*x2+(1-x-y)*x0\n",
        "\n",
        "  # Set up the figure\n",
        "\n",
        "fig, axs = plt.subplots()\n",
        "\n",
        "# Plot the triangulation\n",
        "axs.triplot(new_x,new_y,triangles=triangles)\n",
        "axs.triplot(x,y,triangles=triangles)\n",
        "axs.triplot(new_x,new_y,triangles=triangles)\n",
        "axs.set_title('$\\hat K $ vs $\\~K$')\n",
        "plt.text(0,0,\"Nodo 0 -(0,0)\")\n",
        "plt.text(1,0,\"Nodo 1 -(1,0)\")\n",
        "plt.text(0,1,\"Nodo 2 -(0,1)\")\n",
        "plt.text(-1,-1,\"Nodo 0 -(-1,-1)\")\n",
        "plt.text(1,-1,\"Nodo 1 -(1,-1)\")\n",
        "plt.text(-1,1,\"Nodo 2 -(-1,1)\")\n",
        "plt.plot(x,y,\"ko\")\n",
        "plt.plot(new_x,new_y,\"ro\")"
      ],
      "execution_count": 35,
      "outputs": [
        {
          "output_type": "execute_result",
          "data": {
            "text/plain": [
              "[<matplotlib.lines.Line2D at 0x7feb64615c18>]"
            ]
          },
          "metadata": {
            "tags": []
          },
          "execution_count": 35
        },
        {
          "output_type": "display_data",
          "data": {
            "image/png": "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\n",
            "text/plain": [
              "<Figure size 432x288 with 1 Axes>"
            ]
          },
          "metadata": {
            "tags": [],
            "needs_background": "light"
          }
        }
      ]
    }
  ]
}
